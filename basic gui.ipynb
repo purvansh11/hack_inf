{
 "cells": [
  {
   "cell_type": "code",
   "execution_count": 2,
   "metadata": {},
   "outputs": [],
   "source": [
    "from  tkinter import *\n",
    "\n",
    "window=Tk()\n",
    "\n",
    "window.geometry(\"550x400\")\n",
    "\n",
    "label1=Label(window,text=\"The Project_404\",font=\"times 24 bold\")\n",
    "label1.grid(row=0,column=4)\n",
    "\n",
    "label2=Label(window,text=\"select the option\",font=\"times 14 italic\")\n",
    "label2.grid(row=3,column=4)\n",
    "\n",
    "items_list=[\"phones\",\"chandlier\",\"ships\",\"coffee table\",\"animal lamps\",\"all products\"]\n",
    "item_listbox=StringVar(window)\n",
    "item_listbox.set(\"product list\")\n",
    "menu=OptionMenu(window,item_listbox,*items_list)\n",
    "menu.grid(row=5,column=4)\n",
    "\n",
    "listbox1=Listbox(window,height=15,width=80)\n",
    "listbox1.grid(row=10,column=3,rowspan=6,columnspan=3,pady=10,padx=20)\n",
    "\n",
    "sb1=Scrollbar(window)\n",
    "sb1.grid(row=10,column=6,sticky='ns',rowspan=6)\n",
    "\n",
    "listbox1.configure(yscrollcommand=sb1.set)\n",
    "sb1.configure(command=listbox1.yview)\n",
    "\n",
    "b1=Button(window,text=\"Search\",width=12,bg='gray')\n",
    "b1.grid(row=7,column=4)\n",
    "\n",
    "window.mainloop()"
   ]
  },
  {
   "cell_type": "code",
   "execution_count": null,
   "metadata": {},
   "outputs": [],
   "source": []
  }
 ],
 "metadata": {
  "kernelspec": {
   "display_name": "Python 3",
   "language": "python",
   "name": "python3"
  },
  "language_info": {
   "codemirror_mode": {
    "name": "ipython",
    "version": 3
   },
   "file_extension": ".py",
   "mimetype": "text/x-python",
   "name": "python",
   "nbconvert_exporter": "python",
   "pygments_lexer": "ipython3",
   "version": "3.7.1"
  }
 },
 "nbformat": 4,
 "nbformat_minor": 2
}
